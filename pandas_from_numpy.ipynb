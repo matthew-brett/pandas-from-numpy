{
 "cells": [
  {
   "cell_type": "markdown",
   "id": "5e512548",
   "metadata": {},
   "source": [
    "# From Numpy to Pandas"
   ]
  },
  {
   "cell_type": "code",
   "execution_count": 1,
   "id": "f1523e72",
   "metadata": {},
   "outputs": [],
   "source": [
    "import numpy as np\n",
    "import pandas as pd"
   ]
  },
  {
   "cell_type": "markdown",
   "id": "51028e29",
   "metadata": {},
   "source": [
    "Let's say I have some countries in mind:"
   ]
  },
  {
   "cell_type": "code",
   "execution_count": 2,
   "id": "0cd710bd",
   "metadata": {},
   "outputs": [
    {
     "data": {
      "text/plain": [
       "array(['Australia', 'Brazil', 'Canada', 'China', 'Germany', 'Spain',\n",
       "       'France', 'United Kingdom', 'India', 'Italy', 'Japan',\n",
       "       'Korea, Rep.', 'Mexico', 'Russian Federation', 'United States'],\n",
       "      dtype='<U18')"
      ]
     },
     "execution_count": 2,
     "metadata": {},
     "output_type": "execute_result"
    }
   ],
   "source": [
    "country_names = np.array(['Australia', 'Brazil', 'Canada',\n",
    "                          'China', 'Germany', 'Spain',\n",
    "                          'France', 'United Kingdom', 'India',\n",
    "                          'Italy', 'Japan', 'Korea, Rep.',\n",
    "                          'Mexico', 'Russian Federation', 'United States'])\n",
    "country_names"
   ]
  },
  {
   "cell_type": "markdown",
   "id": "5feb4003",
   "metadata": {},
   "source": [
    "For compactness, I'll also want to use the corresponding [standard three-letter code](https://en.wikipedia.org/wiki/ISO_3166-1_alpha-3) for each country, like so:"
   ]
  },
  {
   "cell_type": "code",
   "execution_count": 3,
   "id": "7cc61326",
   "metadata": {},
   "outputs": [
    {
     "data": {
      "text/plain": [
       "array(['AUS', 'BRA', 'CAN', 'CHN', 'DEU', 'ESP', 'FRA', 'GBR', 'IND',\n",
       "       'ITA', 'JPN', 'KOR', 'MEX', 'RUS', 'USA'], dtype='<U3')"
      ]
     },
     "execution_count": 3,
     "metadata": {},
     "output_type": "execute_result"
    }
   ],
   "source": [
    "country_codes = np.array(['AUS', 'BRA', 'CAN', 'CHN',\n",
    "                          'DEU', 'ESP', 'FRA', 'GBR',\n",
    "                          'IND', 'ITA', 'JPN', 'KOR',\n",
    "                          'MEX', 'RUS', 'USA'])\n",
    "country_codes"
   ]
  },
  {
   "cell_type": "markdown",
   "id": "c31e5aa0",
   "metadata": {},
   "source": [
    "For each of these countries, I have the corresponding Maternal Mortality Rate (MMR).  This the number of women who die per 100,000 live births.  With a well-functioning health system, the death of a mother should be an extremely rare event."
   ]
  },
  {
   "cell_type": "code",
   "execution_count": 4,
   "id": "5be02c76",
   "metadata": {},
   "outputs": [
    {
     "data": {
      "text/plain": [
       "array([  6.  ,  49.5 ,   7.25,  28.75,   6.25,   5.  ,   8.75,   9.25,\n",
       "       185.25,   4.  ,   5.75,  12.  ,  40.  ,  25.25,  14.  ])"
      ]
     },
     "execution_count": 4,
     "metadata": {},
     "output_type": "execute_result"
    }
   ],
   "source": [
    "mmrs = np.array([6.0, 49.5 , 7.25,\n",
    "                 28.75, 6.25, 5.0,\n",
    "                 8.75, 9.25, 185.25,\n",
    "                 4.0, 5.75, 12.0,\n",
    "                 40.0, 25.25, 14. ])\n",
    "mmrs"
   ]
  },
  {
   "cell_type": "markdown",
   "id": "d9842026",
   "metadata": {},
   "source": [
    "By the way, these data are real; they come from statistics compiled by the World Bank from 2012 to 2016.  See [the gender data page](https://github.com/odsti/datasets/tree/main/gender_stats) for more detail.\n",
    "\n",
    "Let's say I also have the amount that each country spends on health care, per person.  Call this HeathCare Expenditure Per Person (HCEPP).   In due course, I'm interested to see whether HCEPP can predict the MMR values."
   ]
  },
  {
   "cell_type": "code",
   "execution_count": 5,
   "id": "be9d5071",
   "metadata": {},
   "outputs": [
    {
     "data": {
      "text/plain": [
       "array([4256., 1303., 4617.,  658., 4910., 2964., 4388., 3358.,  242.,\n",
       "       3267., 3687., 2385., 1081., 1756., 9060.])"
      ]
     },
     "execution_count": 5,
     "metadata": {},
     "output_type": "execute_result"
    }
   ],
   "source": [
    "hcepps = np.array([4256, 1303, 4617,\n",
    "                          658, 4910, 2964,\n",
    "                          4388, 3358, 242,\n",
    "                          3267, 3687, 2385,\n",
    "                          1081, 1756, 9060.])\n",
    "hcepps"
   ]
  },
  {
   "cell_type": "markdown",
   "id": "2f41680f",
   "metadata": {},
   "source": [
    "I want a good way to keep it clear which value corresponds to each country.  I'm going to start with the MMR values.\n",
    "\n",
    "One way of doing that is to make a new data structure, that contains the MMR values, but also has *labels* for each value.  Pandas has an object for that, called a `Series`.  You can construct a series by passing the values and the labels:"
   ]
  },
  {
   "cell_type": "code",
   "execution_count": 6,
   "id": "1553e0b6",
   "metadata": {},
   "outputs": [
    {
     "data": {
      "text/plain": [
       "AUS      6.00\n",
       "BRA     49.50\n",
       "CAN      7.25\n",
       "CHN     28.75\n",
       "DEU      6.25\n",
       "ESP      5.00\n",
       "FRA      8.75\n",
       "GBR      9.25\n",
       "IND    185.25\n",
       "ITA      4.00\n",
       "JPN      5.75\n",
       "KOR     12.00\n",
       "MEX     40.00\n",
       "RUS     25.25\n",
       "USA     14.00\n",
       "dtype: float64"
      ]
     },
     "execution_count": 6,
     "metadata": {},
     "output_type": "execute_result"
    }
   ],
   "source": [
    "mmr_series = pd.Series(mmrs, index=country_codes)\n",
    "mmr_series"
   ]
  },
  {
   "cell_type": "markdown",
   "id": "56ae3e44",
   "metadata": {},
   "source": [
    "Notice the `index=` named argument.  Pandas terms the collection of labels for each value - the *index*.  Think of the index as you would an index for a book - it's a way to get from - in our case - the country code, to the corresponding value.  We can get to the collection of labels with the `.index` attribute of the Series."
   ]
  },
  {
   "cell_type": "code",
   "execution_count": 7,
   "id": "05fa68b1",
   "metadata": {},
   "outputs": [
    {
     "data": {
      "text/plain": [
       "Index(['AUS', 'BRA', 'CAN', 'CHN', 'DEU', 'ESP', 'FRA', 'GBR', 'IND', 'ITA',\n",
       "       'JPN', 'KOR', 'MEX', 'RUS', 'USA'],\n",
       "      dtype='object')"
      ]
     },
     "execution_count": 7,
     "metadata": {},
     "output_type": "execute_result"
    }
   ],
   "source": [
    "mmr_series.index"
   ]
  },
  {
   "cell_type": "markdown",
   "id": "c3b97f7c",
   "metadata": {},
   "source": [
    "Of course `mmr_series` also contains the MMR values, accessible with the `.values` attribute:"
   ]
  },
  {
   "cell_type": "code",
   "execution_count": 8,
   "id": "73b7ca37",
   "metadata": {},
   "outputs": [
    {
     "data": {
      "text/plain": [
       "array([  6.  ,  49.5 ,   7.25,  28.75,   6.25,   5.  ,   8.75,   9.25,\n",
       "       185.25,   4.  ,   5.75,  12.  ,  40.  ,  25.25,  14.  ])"
      ]
     },
     "execution_count": 8,
     "metadata": {},
     "output_type": "execute_result"
    }
   ],
   "source": [
    "mmr_series.values"
   ]
  },
  {
   "cell_type": "markdown",
   "id": "4df13b9a",
   "metadata": {},
   "source": [
    "Think then of the Series as an object that associates an array of values (`.values`) with the corresponding labels for each value (`.index`)."
   ]
  },
  {
   "cell_type": "markdown",
   "id": "82a1dcca",
   "metadata": {},
   "source": [
    "We can access values from their corresponding label, by using the `.loc` accessor, an attribute of the Series object."
   ]
  },
  {
   "cell_type": "code",
   "execution_count": 9,
   "id": "59b491bc",
   "metadata": {},
   "outputs": [
    {
     "data": {
      "text/plain": [
       "40.0"
      ]
     },
     "execution_count": 9,
     "metadata": {},
     "output_type": "execute_result"
    }
   ],
   "source": [
    "mmr_series.loc['MEX']"
   ]
  },
  {
   "cell_type": "markdown",
   "id": "95362c9f",
   "metadata": {},
   "source": [
    "`.loc` is an accessor that allows us to pass labels (in the `.index`), and returns the corresponding values.  Here we ask for more than one value, by passing in a list of labels:"
   ]
  },
  {
   "cell_type": "code",
   "execution_count": 10,
   "id": "054dfcf5",
   "metadata": {},
   "outputs": [
    {
     "data": {
      "text/plain": [
       "KOR    12.0\n",
       "USA    14.0\n",
       "dtype: float64"
      ]
     },
     "execution_count": 10,
     "metadata": {},
     "output_type": "execute_result"
    }
   ],
   "source": [
    "mmr_series.loc[['KOR', 'USA']]"
   ]
  },
  {
   "cell_type": "markdown",
   "id": "046fedd3",
   "metadata": {},
   "source": [
    "Notice above, that passing one label to `.loc` returns the value, but passing two or more labels to `.loc` returns a subset of the Series.   Put another way, one label gives a value, but more than one label gives a Series."
   ]
  },
  {
   "cell_type": "markdown",
   "id": "b39dcec7",
   "metadata": {},
   "source": [
    "Indexing with `.loc` is called *label-based indexing*.  You can also index by\n",
    "position, as you would with a Numpy array.  To remind ourselves, of basic\n",
    "indexing in Numpy, to get the thirteenth value in the Numpy array of MMR\n",
    "values, one could run:"
   ]
  },
  {
   "cell_type": "code",
   "execution_count": 11,
   "id": "616d1d03",
   "metadata": {},
   "outputs": [
    {
     "data": {
      "text/plain": [
       "40.0"
      ]
     },
     "execution_count": 11,
     "metadata": {},
     "output_type": "execute_result"
    }
   ],
   "source": [
    "mmrs[12]"
   ]
  },
  {
   "cell_type": "markdown",
   "id": "c2e0da3f",
   "metadata": {},
   "source": [
    "Numpy indexing with integers, like the above, is always indexing by position.\n",
    "Position 12 is the thirteenth element.\n",
    "\n",
    "You can do the same type of indexing with a Pandas series, with the `.iloc` accessor.  Think of `.iloc` as *integer* indexing, or, if you like, `loc`ating with `i`ntegers."
   ]
  },
  {
   "cell_type": "code",
   "execution_count": 12,
   "id": "4d92ec25",
   "metadata": {},
   "outputs": [
    {
     "data": {
      "text/plain": [
       "40.0"
      ]
     },
     "execution_count": 12,
     "metadata": {},
     "output_type": "execute_result"
    }
   ],
   "source": [
    "mmr_series.iloc[12]"
   ]
  },
  {
   "cell_type": "code",
   "execution_count": 13,
   "id": "ba46a11f",
   "metadata": {},
   "outputs": [
    {
     "data": {
      "text/plain": [
       "KOR    12.0\n",
       "USA    14.0\n",
       "dtype: float64"
      ]
     },
     "execution_count": 13,
     "metadata": {},
     "output_type": "execute_result"
    }
   ],
   "source": [
    "mmr_series.iloc[[11, 14]]"
   ]
  },
  {
   "cell_type": "markdown",
   "id": "3a2984bc",
   "metadata": {},
   "source": [
    "Notice again that one integer to `.iloc` gives a value, but two or more\n",
    "integers gives a Series."
   ]
  },
  {
   "cell_type": "markdown",
   "id": "877f13b3",
   "metadata": {},
   "source": [
    "You can already imagine that this kind of label-based indexing could be\n",
    "useful, because it is easier to avoid mistakes with:"
   ]
  },
  {
   "cell_type": "code",
   "execution_count": 14,
   "id": "104676e8",
   "metadata": {},
   "outputs": [
    {
     "data": {
      "text/plain": [
       "40.0"
      ]
     },
     "execution_count": 14,
     "metadata": {},
     "output_type": "execute_result"
    }
   ],
   "source": [
    "mmr_series.loc['MEX']"
   ]
  },
  {
   "cell_type": "markdown",
   "id": "16c3df31",
   "metadata": {},
   "source": [
    "— than it is to work out the position of Mexico in the array, and do:"
   ]
  },
  {
   "cell_type": "code",
   "execution_count": 15,
   "id": "e9b1d513",
   "metadata": {},
   "outputs": [
    {
     "data": {
      "text/plain": [
       "12.0"
      ]
     },
     "execution_count": 15,
     "metadata": {},
     "output_type": "execute_result"
    }
   ],
   "source": [
    "mmrs[11]  # Was Mexico at position 11?"
   ]
  },
  {
   "cell_type": "markdown",
   "id": "ee2b72cf",
   "metadata": {},
   "source": [
    "— oh, whoops, I mean:"
   ]
  },
  {
   "cell_type": "code",
   "execution_count": 16,
   "id": "619ebcc8",
   "metadata": {},
   "outputs": [
    {
     "data": {
      "text/plain": [
       "40.0"
      ]
     },
     "execution_count": 16,
     "metadata": {},
     "output_type": "execute_result"
    }
   ],
   "source": [
    "mmrs[12]  # Ouch, no, it was a position 12."
   ]
  },
  {
   "cell_type": "markdown",
   "id": "b9342fa2",
   "metadata": {},
   "source": [
    "As well as being harder to make mistakes, it makes the code easier to read, and therefore, easier to debug."
   ]
  },
  {
   "cell_type": "markdown",
   "id": "d9d73216",
   "metadata": {},
   "source": [
    "But the real value from this idea comes when you have more than one Series with corresponding labels.\n",
    "\n",
    "For example, I can also make a Series with the health care expenditure (HCEPP) data, like this:"
   ]
  },
  {
   "cell_type": "code",
   "execution_count": 17,
   "id": "33ff0f41",
   "metadata": {},
   "outputs": [
    {
     "data": {
      "text/plain": [
       "AUS    4256.0\n",
       "BRA    1303.0\n",
       "CAN    4617.0\n",
       "CHN     658.0\n",
       "DEU    4910.0\n",
       "ESP    2964.0\n",
       "FRA    4388.0\n",
       "GBR    3358.0\n",
       "IND     242.0\n",
       "ITA    3267.0\n",
       "JPN    3687.0\n",
       "KOR    2385.0\n",
       "MEX    1081.0\n",
       "RUS    1756.0\n",
       "USA    9060.0\n",
       "dtype: float64"
      ]
     },
     "execution_count": 17,
     "metadata": {},
     "output_type": "execute_result"
    }
   ],
   "source": [
    "hcepp_series = pd.Series(hcepps, index=country_codes)\n",
    "hcepp_series"
   ]
  },
  {
   "cell_type": "code",
   "execution_count": 18,
   "id": "e0956019",
   "metadata": {},
   "outputs": [
    {
     "data": {
      "text/plain": [
       "1081.0"
      ]
     },
     "execution_count": 18,
     "metadata": {},
     "output_type": "execute_result"
    }
   ],
   "source": [
    "hcepp_series.loc['MEX']"
   ]
  },
  {
   "cell_type": "markdown",
   "id": "649ecb41",
   "metadata": {},
   "source": [
    "But now imagine I want to look at the corresponding MMR and HCEPP values.   I can so this separately, for each Series, like this:"
   ]
  },
  {
   "cell_type": "code",
   "execution_count": 19,
   "id": "a55b5801",
   "metadata": {},
   "outputs": [
    {
     "data": {
      "text/plain": [
       "40.0"
      ]
     },
     "execution_count": 19,
     "metadata": {},
     "output_type": "execute_result"
    }
   ],
   "source": [
    "mmr_series.loc['MEX']"
   ]
  },
  {
   "cell_type": "code",
   "execution_count": 20,
   "id": "2953a877",
   "metadata": {},
   "outputs": [
    {
     "data": {
      "text/plain": [
       "1081.0"
      ]
     },
     "execution_count": 20,
     "metadata": {},
     "output_type": "execute_result"
    }
   ],
   "source": [
    "hcepp_series.loc['MEX']"
   ]
  },
  {
   "cell_type": "markdown",
   "id": "aaa79150",
   "metadata": {},
   "source": [
    "Imagine though, that I'm going to be doing this for multiple countries, and that I have multiple (not just two) values per country.  I would like a way of putting these Series together into a table, where the rows have labels (just as the Series values do), and the columns have names.\n",
    "\n",
    "Each Series corresponds to one column in this table.  Pandas calls these tables *data frames*."
   ]
  },
  {
   "cell_type": "code",
   "execution_count": 21,
   "id": "e97a4343",
   "metadata": {},
   "outputs": [
    {
     "data": {
      "text/html": [
       "<div>\n",
       "<style scoped>\n",
       "    .dataframe tbody tr th:only-of-type {\n",
       "        vertical-align: middle;\n",
       "    }\n",
       "\n",
       "    .dataframe tbody tr th {\n",
       "        vertical-align: top;\n",
       "    }\n",
       "\n",
       "    .dataframe thead th {\n",
       "        text-align: right;\n",
       "    }\n",
       "</style>\n",
       "<table border=\"1\" class=\"dataframe\">\n",
       "  <thead>\n",
       "    <tr style=\"text-align: right;\">\n",
       "      <th></th>\n",
       "      <th>mmr</th>\n",
       "      <th>hcepp</th>\n",
       "    </tr>\n",
       "  </thead>\n",
       "  <tbody>\n",
       "    <tr>\n",
       "      <th>AUS</th>\n",
       "      <td>6.00</td>\n",
       "      <td>4256.0</td>\n",
       "    </tr>\n",
       "    <tr>\n",
       "      <th>BRA</th>\n",
       "      <td>49.50</td>\n",
       "      <td>1303.0</td>\n",
       "    </tr>\n",
       "    <tr>\n",
       "      <th>CAN</th>\n",
       "      <td>7.25</td>\n",
       "      <td>4617.0</td>\n",
       "    </tr>\n",
       "    <tr>\n",
       "      <th>CHN</th>\n",
       "      <td>28.75</td>\n",
       "      <td>658.0</td>\n",
       "    </tr>\n",
       "    <tr>\n",
       "      <th>DEU</th>\n",
       "      <td>6.25</td>\n",
       "      <td>4910.0</td>\n",
       "    </tr>\n",
       "    <tr>\n",
       "      <th>ESP</th>\n",
       "      <td>5.00</td>\n",
       "      <td>2964.0</td>\n",
       "    </tr>\n",
       "    <tr>\n",
       "      <th>FRA</th>\n",
       "      <td>8.75</td>\n",
       "      <td>4388.0</td>\n",
       "    </tr>\n",
       "    <tr>\n",
       "      <th>GBR</th>\n",
       "      <td>9.25</td>\n",
       "      <td>3358.0</td>\n",
       "    </tr>\n",
       "    <tr>\n",
       "      <th>IND</th>\n",
       "      <td>185.25</td>\n",
       "      <td>242.0</td>\n",
       "    </tr>\n",
       "    <tr>\n",
       "      <th>ITA</th>\n",
       "      <td>4.00</td>\n",
       "      <td>3267.0</td>\n",
       "    </tr>\n",
       "    <tr>\n",
       "      <th>JPN</th>\n",
       "      <td>5.75</td>\n",
       "      <td>3687.0</td>\n",
       "    </tr>\n",
       "    <tr>\n",
       "      <th>KOR</th>\n",
       "      <td>12.00</td>\n",
       "      <td>2385.0</td>\n",
       "    </tr>\n",
       "    <tr>\n",
       "      <th>MEX</th>\n",
       "      <td>40.00</td>\n",
       "      <td>1081.0</td>\n",
       "    </tr>\n",
       "    <tr>\n",
       "      <th>RUS</th>\n",
       "      <td>25.25</td>\n",
       "      <td>1756.0</td>\n",
       "    </tr>\n",
       "    <tr>\n",
       "      <th>USA</th>\n",
       "      <td>14.00</td>\n",
       "      <td>9060.0</td>\n",
       "    </tr>\n",
       "  </tbody>\n",
       "</table>\n",
       "</div>"
      ],
      "text/plain": [
       "        mmr   hcepp\n",
       "AUS    6.00  4256.0\n",
       "BRA   49.50  1303.0\n",
       "CAN    7.25  4617.0\n",
       "CHN   28.75   658.0\n",
       "DEU    6.25  4910.0\n",
       "ESP    5.00  2964.0\n",
       "FRA    8.75  4388.0\n",
       "GBR    9.25  3358.0\n",
       "IND  185.25   242.0\n",
       "ITA    4.00  3267.0\n",
       "JPN    5.75  3687.0\n",
       "KOR   12.00  2385.0\n",
       "MEX   40.00  1081.0\n",
       "RUS   25.25  1756.0\n",
       "USA   14.00  9060.0"
      ]
     },
     "execution_count": 21,
     "metadata": {},
     "output_type": "execute_result"
    }
   ],
   "source": [
    "df = pd.DataFrame({'mmr': mmr_series, 'hcepp': hcepp_series})\n",
    "df"
   ]
  },
  {
   "cell_type": "markdown",
   "id": "c39e5b95",
   "metadata": {},
   "source": [
    "Think of this data frame as being like a dictionary of Series.\n",
    "\n",
    "The keys in this dictionary are the column names we provided: `mmr` and `hcepp`; the values are the corresponding Series.\n",
    "\n",
    "We can get the `mmr` series by name, by indexing directly into the data frame,\n",
    "like this:"
   ]
  },
  {
   "cell_type": "code",
   "execution_count": 22,
   "id": "e3c5725a",
   "metadata": {},
   "outputs": [
    {
     "data": {
      "text/plain": [
       "AUS      6.00\n",
       "BRA     49.50\n",
       "CAN      7.25\n",
       "CHN     28.75\n",
       "DEU      6.25\n",
       "ESP      5.00\n",
       "FRA      8.75\n",
       "GBR      9.25\n",
       "IND    185.25\n",
       "ITA      4.00\n",
       "JPN      5.75\n",
       "KOR     12.00\n",
       "MEX     40.00\n",
       "RUS     25.25\n",
       "USA     14.00\n",
       "Name: mmr, dtype: float64"
      ]
     },
     "execution_count": 22,
     "metadata": {},
     "output_type": "execute_result"
    }
   ],
   "source": [
    "mmr_from_df = df['mmr']\n",
    "mmr_from_df"
   ]
  },
  {
   "cell_type": "markdown",
   "id": "27f3b0ba",
   "metadata": {},
   "source": [
    "Notice this returns a Series, extracted back from the data frame."
   ]
  },
  {
   "cell_type": "code",
   "execution_count": 23,
   "id": "d53a49c2",
   "metadata": {},
   "outputs": [
    {
     "data": {
      "text/plain": [
       "pandas.core.series.Series"
      ]
     },
     "execution_count": 23,
     "metadata": {},
     "output_type": "execute_result"
    }
   ],
   "source": [
    "type(mmr_from_df)"
   ]
  },
  {
   "cell_type": "markdown",
   "id": "57d6a025",
   "metadata": {},
   "source": [
    "Notice too, that the Series now has an extra attribute, which is the Name.\n",
    "\n",
    "We said above that Series are the association between an array of `.values`, and a corresponding collection of labels, in `.index`.  Now we see that the Series also has a `.name`, that we had not set in our original series:"
   ]
  },
  {
   "cell_type": "code",
   "execution_count": 24,
   "id": "dd66050a",
   "metadata": {},
   "outputs": [
    {
     "data": {
      "text/plain": [
       "'mmr'"
      ]
     },
     "execution_count": 24,
     "metadata": {},
     "output_type": "execute_result"
    }
   ],
   "source": [
    "# This is the Series we've extracted from the data frame.\n",
    "mmr_from_df.name"
   ]
  },
  {
   "cell_type": "markdown",
   "id": "cf42d1fc",
   "metadata": {},
   "source": [
    "As you can see, we had not set the name of the Series we built above using `pd.Series`, so it gets the default `.name` of `None`."
   ]
  },
  {
   "cell_type": "code",
   "execution_count": 25,
   "id": "6e435adf",
   "metadata": {},
   "outputs": [
    {
     "data": {
      "text/plain": [
       "True"
      ]
     },
     "execution_count": 25,
     "metadata": {},
     "output_type": "execute_result"
    }
   ],
   "source": [
    "# This was the original series we built with pd.Series.\n",
    "mmr_series.name is None"
   ]
  },
  {
   "cell_type": "markdown",
   "id": "d99a5326",
   "metadata": {},
   "source": [
    "We can also use `.loc` and `.iloc` accessors on the data frame, to get rows by label (index value) or by position:"
   ]
  },
  {
   "cell_type": "code",
   "execution_count": 26,
   "id": "711982f4",
   "metadata": {},
   "outputs": [
    {
     "data": {
      "text/plain": [
       "mmr        40.0\n",
       "hcepp    1081.0\n",
       "Name: MEX, dtype: float64"
      ]
     },
     "execution_count": 26,
     "metadata": {},
     "output_type": "execute_result"
    }
   ],
   "source": [
    "df.loc['MEX']"
   ]
  },
  {
   "cell_type": "markdown",
   "id": "30381018",
   "metadata": {},
   "source": [
    "Notice what Pandas did here.  As for indexing into Series, indexing into the data frame *with a single label* returns the *contents* of the row.   And Pandas, being a general thinker, sees that the contents of the row are values, that have labels, where the labels are the column names.  Thus it returns the row to you as a new Series, where the Series has values from the row values, and labels from the column names."
   ]
  },
  {
   "cell_type": "markdown",
   "id": "478cc80d",
   "metadata": {},
   "source": [
    "Notice too that indexing with more than one value, returns a subset of the data frame.  In strict parallel to indexing into a Series, indexing with multiple values into a data frame, returns a subset of the data frame, which is itself, a data frame."
   ]
  },
  {
   "cell_type": "code",
   "execution_count": 27,
   "id": "ef443475",
   "metadata": {},
   "outputs": [
    {
     "data": {
      "text/html": [
       "<div>\n",
       "<style scoped>\n",
       "    .dataframe tbody tr th:only-of-type {\n",
       "        vertical-align: middle;\n",
       "    }\n",
       "\n",
       "    .dataframe tbody tr th {\n",
       "        vertical-align: top;\n",
       "    }\n",
       "\n",
       "    .dataframe thead th {\n",
       "        text-align: right;\n",
       "    }\n",
       "</style>\n",
       "<table border=\"1\" class=\"dataframe\">\n",
       "  <thead>\n",
       "    <tr style=\"text-align: right;\">\n",
       "      <th></th>\n",
       "      <th>mmr</th>\n",
       "      <th>hcepp</th>\n",
       "    </tr>\n",
       "  </thead>\n",
       "  <tbody>\n",
       "    <tr>\n",
       "      <th>KOR</th>\n",
       "      <td>12.0</td>\n",
       "      <td>2385.0</td>\n",
       "    </tr>\n",
       "    <tr>\n",
       "      <th>USA</th>\n",
       "      <td>14.0</td>\n",
       "      <td>9060.0</td>\n",
       "    </tr>\n",
       "  </tbody>\n",
       "</table>\n",
       "</div>"
      ],
      "text/plain": [
       "      mmr   hcepp\n",
       "KOR  12.0  2385.0\n",
       "USA  14.0  9060.0"
      ]
     },
     "execution_count": 27,
     "metadata": {},
     "output_type": "execute_result"
    }
   ],
   "source": [
    "df.loc[['KOR', 'USA']]"
   ]
  }
 ],
 "metadata": {
  "kernelspec": {
   "display_name": "Python 3 (ipykernel)",
   "language": "python",
   "name": "python3"
  },
  "language_info": {
   "codemirror_mode": {
    "name": "ipython",
    "version": 3
   },
   "file_extension": ".py",
   "mimetype": "text/x-python",
   "name": "python",
   "nbconvert_exporter": "python",
   "pygments_lexer": "ipython3",
   "version": "3.10.15"
  }
 },
 "nbformat": 4,
 "nbformat_minor": 5
}
